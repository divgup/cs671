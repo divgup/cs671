s{
  "nbformat": 4,
  "nbformat_minor": 0,
  "metadata": {
    "colab": {
      "name": "Assignment1_q3_part1_mnist",
      "provenance": []
    },
    "kernelspec": {
      "name": "python3",
      "display_name": "Python 3"
    }
  },
  "cells": [
    {
      "cell_type": "code",
      "metadata": {
        "id": "clZucFYGxHpl",
        "colab_type": "code",
        "colab": {
          "base_uri": "https://localhost:8080/",
          "height": 68
        },
        "outputId": "674286ee-2f7a-4ed9-bacc-752a5e3d9d4e"
      },
      "source": [
        "from __future__ import print_function\n",
        "import keras\n",
        "from keras.datasets import mnist\n",
        "from keras.models import Sequential\n",
        "from keras.layers import Dense, Dropout, Flatten\n",
        "from keras.layers import Conv2D, MaxPooling2D\n",
        "from keras import backend as K\n",
        "from keras import layers\n",
        "\n",
        "batch_size = 128\n",
        "num_classes = 10\n",
        "epochs = 12\n",
        "\n",
        "# input image dimensions\n",
        "img_rows, img_cols = 28, 28\n",
        "\n",
        "# the data, split between train and test sets\n",
        "(x_train, y_train), (x_test, y_test) = mnist.load_data()\n",
        "\n",
        "if K.image_data_format() == 'channels_first':\n",
        "    x_train = x_train.reshape(x_train.shape[0], 1, img_rows, img_cols)\n",
        "    x_test = x_test.reshape(x_test.shape[0], 1, img_rows, img_cols)\n",
        "    input_shape = (1, img_rows, img_cols)\n",
        "else:\n",
        "    x_train = x_train.reshape(x_train.shape[0], img_rows, img_cols, 1)\n",
        "    x_test = x_test.reshape(x_test.shape[0], img_rows, img_cols, 1)\n",
        "    input_shape = (img_rows, img_cols, 1)\n",
        "\n",
        "x_train = x_train.astype('float32')\n",
        "x_test = x_test.astype('float32')\n",
        "x_train /= 255\n",
        "x_test /= 255\n",
        "print('x_train shape:', x_train.shape)\n",
        "print(x_train.shape[0], 'train samples')\n",
        "print(x_test.shape[0], 'test samples')\n",
        "\n",
        "# convert class vectors to binary class matrices\n",
        "y_train = keras.utils.to_categorical(y_train, num_classes)\n",
        "y_test = keras.utils.to_categorical(y_test, num_classes)"
      ],
      "execution_count": 4,
      "outputs": [
        {
          "output_type": "stream",
          "text": [
            "x_train shape: (60000, 28, 28, 1)\n",
            "60000 train samples\n",
            "10000 test samples\n"
          ],
          "name": "stdout"
        }
      ]
    },
    {
      "cell_type": "code",
      "metadata": {
        "id": "-3loJCjTxc-h",
        "colab_type": "code",
        "outputId": "c091ddcc-264a-482a-c07a-81173ce43a72",
        "colab": {
          "base_uri": "https://localhost:8080/",
          "height": 34
        }
      },
      "source": [
        "# (X_train_orig,Y_train_orig),(X_test_orig,Y_test_orig) = mnist.load_data()\n",
        "# #reshape to a column vector\n",
        "# print(Y_train_orig.shape)\n",
        "# Y_tr_resh = Y_train_orig.reshape(60000,1)\n",
        "# Y_te_resh = Y_test_orig.reshape(10000,1)"
      ],
      "execution_count": 0,
      "outputs": [
        {
          "output_type": "stream",
          "text": [
            "(60000,)\n"
          ],
          "name": "stdout"
        }
      ]
    },
    {
      "cell_type": "code",
      "metadata": {
        "id": "NAqx2DDX7SvQ",
        "colab_type": "code",
        "outputId": "c2d1506b-c439-40fc-d643-9889acd373f4",
        "colab": {
          "base_uri": "https://localhost:8080/",
          "height": 34
        }
      },
      "source": [
        "# X_train_flat = X_train_orig.reshape(X_train_orig.shape[0],-1).T\n",
        "# X_test_flat = X_test_orig.reshape(X_test_orig.shape[0],-1).T\n",
        "# X_train = X_train_flat/255.\n",
        "# X_test = X_test_flat/255.\n",
        "# X_train, X_test = np.reshape(X_train, X_train.shape + (1,)), np.reshape(X_test, X_test.shape + (1,)) \n",
        "\n",
        "# print(X_train_flat.shape)"
      ],
      "execution_count": 0,
      "outputs": [
        {
          "output_type": "stream",
          "text": [
            "(784, 60000)\n"
          ],
          "name": "stdout"
        }
      ]
    },
    {
      "cell_type": "code",
      "metadata": {
        "id": "vpePIb65xldi",
        "colab_type": "code",
        "outputId": "dec0fae6-5e75-4307-9ce8-d8dcfaf9c894",
        "colab": {
          "base_uri": "https://localhost:8080/",
          "height": 34
        }
      },
      "source": [
        "# Y_tr_T = to_categorical(Y_tr_resh,num_classes=10)\n",
        "# Y_te_T = to_categorical(Y_te_resh,num_classes=10)\n",
        "# Y_train = Y_tr_T.T\n",
        "# Y_test = Y_te_T.T\n",
        "# print(Y_train.shape)\n",
        "# size=Y_train.shape[1]\n"
      ],
      "execution_count": 0,
      "outputs": [
        {
          "output_type": "stream",
          "text": [
            "(10, 60000)\n"
          ],
          "name": "stdout"
        }
      ]
    },
    {
      "cell_type": "code",
      "metadata": {
        "id": "Jmkst9_2yT2U",
        "colab_type": "code",
        "outputId": "a20f9993-38fb-4329-8b45-6fcacbb28a9e",
        "colab": {
          "base_uri": "https://localhost:8080/",
          "height": 714
        }
      },
      "source": [
        "num_classes=10\n",
        "batch_size = 128\n",
        "# num_classes = 10\n",
        "epochs = 10\n",
        "model = Sequential()\n",
        "# digit_input = Input(shape=(28, 28, 1))\n",
        "model.add(layers.Conv2D(32, (7, 7), strides=1, input_shape=(28,28,1)))\n",
        "model.add(layers.BatchNormalization())\n",
        "model.add(layers.Activation(\"relu\"))\n",
        "model.add(layers.MaxPooling2D(pool_size=(2,2), strides=2))\n",
        "model.add(Flatten())\n",
        "model.add(Dense(1024))\n",
        "model.add(layers.Activation(\"relu\"))\n",
        "model.add(Dense(num_classes, activation='softmax'))\n",
        "model.compile(loss=keras.losses.categorical_crossentropy,\n",
        "              optimizer=keras.optimizers.Adam(),\n",
        "              metrics=['accuracy'])\n",
        "print(model.summary())\n",
        "history = model.fit(x_train, y_train, epochs=8, batch_size=128)\n",
        "\n",
        "# score = model.evaluate(X_test, Y_test, verbose=0)\n",
        "# print('Test loss:', score[0])\n",
        "# print('Test accuracy:', score[1])\n"
      ],
      "execution_count": 6,
      "outputs": [
        {
          "output_type": "stream",
          "text": [
            "Model: \"sequential_4\"\n",
            "_________________________________________________________________\n",
            "Layer (type)                 Output Shape              Param #   \n",
            "=================================================================\n",
            "conv2d_2 (Conv2D)            (None, 22, 22, 32)        1600      \n",
            "_________________________________________________________________\n",
            "batch_normalization_1 (Batch (None, 22, 22, 32)        128       \n",
            "_________________________________________________________________\n",
            "activation_1 (Activation)    (None, 22, 22, 32)        0         \n",
            "_________________________________________________________________\n",
            "max_pooling2d_1 (MaxPooling2 (None, 11, 11, 32)        0         \n",
            "_________________________________________________________________\n",
            "flatten_1 (Flatten)          (None, 3872)              0         \n",
            "_________________________________________________________________\n",
            "dense_1 (Dense)              (None, 1024)              3965952   \n",
            "_________________________________________________________________\n",
            "activation_2 (Activation)    (None, 1024)              0         \n",
            "_________________________________________________________________\n",
            "dense_2 (Dense)              (None, 10)                10250     \n",
            "=================================================================\n",
            "Total params: 3,977,930\n",
            "Trainable params: 3,977,866\n",
            "Non-trainable params: 64\n",
            "_________________________________________________________________\n",
            "None\n",
            "Epoch 1/8\n",
            "60000/60000 [==============================] - 90s 1ms/step - loss: 0.2476 - accuracy: 0.9429\n",
            "Epoch 2/8\n",
            "60000/60000 [==============================] - 90s 2ms/step - loss: 0.0586 - accuracy: 0.9817\n",
            "Epoch 3/8\n",
            "60000/60000 [==============================] - 90s 1ms/step - loss: 0.0378 - accuracy: 0.9878\n",
            "Epoch 4/8\n",
            "60000/60000 [==============================] - 90s 1ms/step - loss: 0.0333 - accuracy: 0.9891\n",
            "Epoch 5/8\n",
            "60000/60000 [==============================] - 88s 1ms/step - loss: 0.0236 - accuracy: 0.9923\n",
            "Epoch 6/8\n",
            "60000/60000 [==============================] - 91s 2ms/step - loss: 0.0216 - accuracy: 0.9924\n",
            "Epoch 7/8\n",
            "60000/60000 [==============================] - 90s 2ms/step - loss: 0.0180 - accuracy: 0.9938\n",
            "Epoch 8/8\n",
            "60000/60000 [==============================] - 89s 1ms/step - loss: 0.0155 - accuracy: 0.9950\n"
          ],
          "name": "stdout"
        }
      ]
    },
    {
      "cell_type": "code",
      "metadata": {
        "id": "gyCrAPU08jlG",
        "colab_type": "code",
        "colab": {}
      },
      "source": [
        "# digit_input = Input(shape=(28, 28, 1))\n",
        "# conv1 = Conv2D(32, kernel_size=(7,7), strides=1)(digit_input)\n",
        "# relu1 = Activation('relu')(conv1)\n",
        "# normalize1 = BatchNormalization(axis=2)(relu1)\n",
        "# pool1 = MaxPooling2D(pool_size=(2,2), strides=2)(normalize1)\n",
        "# flat = Flatten()(pool1)\n",
        "# fc1 = Dense(1024)(flat)\n",
        "# relu1 = Activation('relu')(fc1)\n",
        "# output = Dense(10, activation='softmax')(relu1)\n",
        "\n",
        "# model = Model(inputs=digit_input, outputs=output)\n",
        "# model.compile(loss='categorical_crossentropy', optimizer='adam', metrics=['accuracy'])\n",
        "# print(model.summary())\n",
        "# history = model.fit(X_train, Y_train, epochs=8, batch_size=128)\n",
        "# score, acc = model.evaluate(X_test, Y_test, batch_size=128)\n",
        "# model.save('model/mnist.h5') \n",
        "# print (\"accuracy\" , acc)\n"
      ],
      "execution_count": 0,
      "outputs": []
    },
    {
      "cell_type": "code",
      "metadata": {
        "id": "7w5NinYm9K3b",
        "colab_type": "code",
        "colab": {
          "base_uri": "https://localhost:8080/",
          "height": 51
        },
        "outputId": "841ef35d-02ba-4f26-ed40-b807112a7bb7"
      },
      "source": [
        "score = model.evaluate(x_test, y_test, verbose=0)\n",
        "print('Test loss:', score[0])\n",
        "print('Test accuracy:', score[1])\n",
        "accuracy=score[1]"
      ],
      "execution_count": 11,
      "outputs": [
        {
          "output_type": "stream",
          "text": [
            "Test loss: 0.0419451634224285\n",
            "Test accuracy: 0.9908999800682068\n"
          ],
          "name": "stdout"
        }
      ]
    },
    {
      "cell_type": "code",
      "metadata": {
        "id": "BF2RV3GX95zJ",
        "colab_type": "code",
        "colab": {
          "base_uri": "https://localhost:8080/",
          "height": 545
        },
        "outputId": "26035120-ef31-478b-ef16-05a61a868f02"
      },
      "source": [
        "import matplotlib.pyplot as plt\n",
        "\n",
        "plt.plot(history.history['accuracy'])\n",
        "plt.title('Training Accuracy')\n",
        "plt.show()\n",
        "plt.plot(history.history['loss'])\n",
        "plt.title('Training Loss')\n",
        "plt.show()"
      ],
      "execution_count": 12,
      "outputs": [
        {
          "output_type": "display_data",
          "data": {
            "image/png": "[encoded data removed]",
            "text/plain": [
              "<Figure size 432x288 with 1 Axes>"
            ]
          },
          "metadata": {
            "tags": [],
            "needs_background": "light"
          }
        },
        {
          "output_type": "display_data",
          "data": {
            "image/png": "[encoded data removed]",
            "text/plain": [
              "<Figure size 432x288 with 1 Axes>"
            ]
          },
          "metadata": {
            "tags": [],
            "needs_background": "light"
          }
        }
      ]
    },
    {
      "cell_type": "code",
      "metadata": {
        "id": "csHyR3Q79H9L",
        "colab_type": "code",
        "colab": {}
      },
      "source": [
        "output=model.predict(x_test)"
      ],
      "execution_count": 0,
      "outputs": []
    },
    {
      "cell_type": "code",
      "metadata": {
        "id": "STYUbjav-ttQ",
        "colab_type": "code",
        "colab": {
          "base_uri": "https://localhost:8080/",
          "height": 187
        },
        "outputId": "25c3ff49-33fe-44eb-c20d-96178b1748ce"
      },
      "source": [
        "from sklearn.metrics import confusion_matrix\n",
        "cm=confusion_matrix(y_test.argmax(axis=1),output.argmax(axis=1))\n",
        "print(cm)"
      ],
      "execution_count": 16,
      "outputs": [
        {
          "output_type": "stream",
          "text": [
            "[[ 976    0    0    0    0    0    1    1    2    0]\n",
            " [   0 1128    0    0    0    1    2    1    2    1]\n",
            " [   1    2 1026    1    0    0    0    2    0    0]\n",
            " [   1    0    2  999    0    0    0    1    6    1]\n",
            " [   0    0    0    0  975    0    2    0    0    5]\n",
            " [   1    0    0    6    0  882    2    0    0    1]\n",
            " [   4    1    1    0    1    1  950    0    0    0]\n",
            " [   0    1    7    0    0    0    0 1016    1    3]\n",
            " [   2    0    3    0    1    0    1    1  958    8]\n",
            " [   0    0    1    1    5    1    0    1    1  999]]\n"
          ],
          "name": "stdout"
        }
      ]
    },
    {
      "cell_type": "code",
      "metadata": {
        "id": "hSLPajix-9lK",
        "colab_type": "code",
        "colab": {}
      },
      "source": [
        "import numpy as np\n",
        "True_Positive=np.diag(cm)\n"
      ],
      "execution_count": 0,
      "outputs": []
    },
    {
      "cell_type": "code",
      "metadata": {
        "id": "zRuyZ4LuD8-i",
        "colab_type": "code",
        "colab": {}
      },
      "source": [
        "def calprecision(index):\n",
        "  tp=cm[index][index]\n",
        "  sumno=0\n",
        "  for i in range(0, 10):\n",
        "    sumno=sumno+cm[index][i]\n",
        "  fp=sumno-tp\n",
        "  precision=tp/sumno\n",
        "  return precision\n",
        "    "
      ],
      "execution_count": 0,
      "outputs": []
    },
    {
      "cell_type": "code",
      "metadata": {
        "id": "dSa5wFIHD97c",
        "colab_type": "code",
        "colab": {}
      },
      "source": [
        "def calrecall(index):\n",
        "  tp=cm[index][index]\n",
        "  sumno=0\n",
        "  for i in range(0, 10):\n",
        "    sumno=sumno+cm[i][index]\n",
        "  fn=sumno-tp\n",
        "  rec=tp/sumno\n",
        "  return rec"
      ],
      "execution_count": 0,
      "outputs": []
    },
    {
      "cell_type": "code",
      "metadata": {
        "id": "ChhIpgzxELDC",
        "colab_type": "code",
        "colab": {
          "base_uri": "https://localhost:8080/",
          "height": 54
        },
        "outputId": "86946390-4272-4c11-bf4e-82f42dac5d98"
      },
      "source": [
        "fscore=[]\n",
        "for i in range(0,10):\n",
        "  hp= harmonicmean(calrecall(i),calprecision(i))\n",
        "  fscore.append(hp)\n",
        "print(fscore)"
      ],
      "execution_count": 26,
      "outputs": [
        {
          "output_type": "stream",
          "text": [
            "[0.9933842239185751, 0.9951477723864137, 0.9903474903474904, 0.9905800694100149, 0.9928716904276986, 0.9926842993809791, 0.9916492693110647, 0.9907362262311068, 0.98559670781893, 0.9856931425752343]\n"
          ],
          "name": "stdout"
        }
      ]
    },
    {
      "cell_type": "code",
      "metadata": {
        "id": "nSIZOftmEO78",
        "colab_type": "code",
        "colab": {}
      },
      "source": [
        "def harmonicmean(a,b):\n",
        "  hp=2*a*b/(a+b)\n",
        "  return hp"
      ],
      "execution_count": 0,
      "outputs": []
    }
  ]
}
