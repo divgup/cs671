{
  "nbformat": 4,
  "nbformat_minor": 0,
  "metadata": {
    "colab": {
      "name": "assignment1_q2(mnist_data).ipynb",
      "provenance": [],
      "collapsed_sections": []
    },
    "kernelspec": {
      "name": "python3",
      "display_name": "Python 3"
    }
  },
  "cells": [
    {
      "cell_type": "markdown",
      "metadata": {
        "id": "view-in-github",
        "colab_type": "text"
      },
      "source": [
        "<a href=\"https://colab.research.google.com/github/divgup/cs671/blob/master/assignment1_q2(mnist_data).ipynb\" target=\"_parent\"><img src=\"https://colab.research.google.com/assets/colab-badge.svg\" alt=\"Open In Colab\"/></a>"
      ]
    },
    {
      "cell_type": "code",
      "metadata": {
        "id": "2GWMry5KqMBK",
        "colab_type": "code",
        "outputId": "4b311250-8692-413c-c107-1b22df7fcc3b",
        "colab": {
          "base_uri": "https://localhost:8080/",
          "height": 102
        }
      },
      "source": [
        "import numpy as np\n",
        "from tensorflow.keras.datasets import mnist\n",
        "from keras.utils import to_categorical\n",
        "#X_train_orig is a 3-D array containing the pixel values of grey image\n",
        "#Y_train_orig is 1-D array containing labels of corresponding image \n",
        "#similarily for X_test and Y_test \n",
        "(X_train_orig,Y_train_orig),(X_test_orig,Y_test_orig) = mnist.load_data()\n",
        "#reshape to a column vector\n",
        "print(Y_train_orig.shape)\n",
        "Y_tr_resh = Y_train_orig.reshape(60000,1)\n",
        "Y_te_resh = Y_test_orig.reshape(10000,1)\n",
        "\n",
        "#one hot encoding to give a 2-D array of size (60000,10) and (10000,10) for training and testing set resp.\n",
        "Y_tr_T = to_categorical(Y_tr_resh,num_classes=10)\n",
        "Y_te_T = to_categorical(Y_te_resh,num_classes=10)\n",
        "Y_train = Y_tr_T.T\n",
        "Y_test = Y_te_T.T\n",
        "print(Y_train.shape)\n",
        "size=Y_train.shape[1]"
      ],
      "execution_count": 1,
      "outputs": [
        {
          "output_type": "stream",
          "text": [
            "Using TensorFlow backend.\n"
          ],
          "name": "stderr"
        },
        {
          "output_type": "stream",
          "text": [
            "Downloading data from https://storage.googleapis.com/tensorflow/tf-keras-datasets/mnist.npz\n",
            "11493376/11490434 [==============================] - 0s 0us/step\n",
            "(60000,)\n",
            "(10, 60000)\n"
          ],
          "name": "stdout"
        }
      ]
    },
    {
      "cell_type": "code",
      "metadata": {
        "id": "kOsNUQ5Ht8LC",
        "colab_type": "code",
        "outputId": "6ee383ed-7ec2-4142-c965-954f9b9789ae",
        "colab": {
          "base_uri": "https://localhost:8080/",
          "height": 34
        }
      },
      "source": [
        "X_train_flat = X_train_orig.reshape(X_train_orig.shape[0],-1).T\n",
        "X_test_flat = X_test_orig.reshape(X_test_orig.shape[0],-1).T\n",
        "X_train = X_train_flat/255.\n",
        "X_test = X_test_flat/255.\n",
        "print(X_train_flat.shape)"
      ],
      "execution_count": 2,
      "outputs": [
        {
          "output_type": "stream",
          "text": [
            "(784, 60000)\n"
          ],
          "name": "stdout"
        }
      ]
    },
    {
      "cell_type": "code",
      "metadata": {
        "id": "VLw289b0Yc9M",
        "colab_type": "code",
        "colab": {}
      },
      "source": [
        "def softmax(a):\n",
        "  return np.exp(a)/(np.sum(np.exp(a),axis=0,keepdims=True))\n",
        "def Relu(u):\n",
        "  u[u<0] = 0\n",
        "  return u  "
      ],
      "execution_count": 0,
      "outputs": []
    },
    {
      "cell_type": "code",
      "metadata": {
        "id": "zuFw7zaAELxl",
        "colab_type": "code",
        "colab": {}
      },
      "source": [
        "parameters = {}\n",
        "def initialisation():\n",
        "  #hardcoded the no. of units in each layer\n",
        "  layers = [784,50,50,10]\n",
        "  for it in range(1,len(layers)):\n",
        "    parameters[\"w\"+str(it)] = np.random.rand(layers[it-1],layers[it])*np.sqrt(2/layers[it-1])\n",
        "    parameters[\"b\"+str(it)] = np.zeros((layers[it],1))\n",
        "  #print(parameters[\"w2\"].shape)\n",
        "  #print(weights[1])\n"
      ],
      "execution_count": 0,
      "outputs": []
    },
    {
      "cell_type": "code",
      "metadata": {
        "id": "yCydTObpGrXB",
        "colab_type": "code",
        "colab": {}
      },
      "source": [
        "initialisation()\n",
        "# print(parameters)"
      ],
      "execution_count": 0,
      "outputs": []
    },
    {
      "cell_type": "code",
      "metadata": {
        "id": "qeonPNv6awXx",
        "colab_type": "code",
        "colab": {}
      },
      "source": [
        "def calc_loss(Y_train,output):\n",
        "  loss = np.sum(np.sum(-Y_train*np.log(output),axis=0,keepdims=True),axis=1,keepdims=True)\n",
        "  return loss/Y_train.shape[1]"
      ],
      "execution_count": 0,
      "outputs": []
    },
    {
      "cell_type": "code",
      "metadata": {
        "id": "SzSsJNM-ItnO",
        "colab_type": "code",
        "colab": {}
      },
      "source": [
        "layer = {}\n",
        "def forward_pass(x,num_layers):\n",
        "  for it in range(num_layers-1):\n",
        "    #print(parameters[\"w\"+str(it+1)].shape)\n",
        "    layer[\"pre_hid\"+str(it+1)] = np.dot(parameters[\"w\"+str(it+1)].T,x)+parameters[\"b\"+str(it+1)]\n",
        "    #print(layer)\n",
        "    if it < num_layers-2:\n",
        "      layer[\"activated\"+str(it+1)] = Relu(layer[\"pre_hid\"+str(it+1)])\n",
        "    else:\n",
        "      #print(layer[\"pre_hid\"+str(it+1)])\n",
        "      layer[\"activated\"+str(it+1)] = softmax(layer[\"pre_hid\"+str(it+1)])\n",
        "      #print(layer[\"activated\"+str(it+1)])\n",
        "    x = layer[\"pre_hid\"+str(it+1)]    \n",
        "    #if it < len(layers)-2):\n",
        "      #x = Relu(l)\n",
        "    #else:\n",
        "      #x = softmax(l)\n",
        "  #return layer      \n"
      ],
      "execution_count": 0,
      "outputs": []
    },
    {
      "cell_type": "code",
      "metadata": {
        "id": "38VlT1SjlQqF",
        "colab_type": "code",
        "colab": {}
      },
      "source": [
        "def drelu(x):\n",
        "  y = np.ones(x.shape)\n",
        "  y[x<0] = 0\n",
        "  return y"
      ],
      "execution_count": 0,
      "outputs": []
    },
    {
      "cell_type": "code",
      "metadata": {
        "id": "BSzayZ34OdXF",
        "colab_type": "code",
        "colab": {}
      },
      "source": [
        "def back_prop(X_train,num_layers):\n",
        "  output = layer[\"activated\"+str(num_layers-1)]\n",
        "  #print(output.shape)\n",
        "  #print(Y_train.shape)\n",
        "  grad = {}\n",
        "  m = X_train.shape[1]\n",
        "  grad[\"a\"+str(num_layers-1)] = -(Y_train-output)/m\n",
        "  grad[\"h\"+str(num_layers-2)] = np.dot(parameters[\"w\"+str(num_layers-1)],grad[\"a\"+str(num_layers-1)])\n",
        "  #grad[\"w\"+str(len(layers)-1)] = np.dot(output-Y_train,x[pre_hid+str(len(layers)-2)].T)\n",
        "  for it in range(1,num_layers-1):\n",
        "    Indicator = drelu(layer[\"pre_hid\"+str(num_layers-it-1)])\n",
        "    grad[\"a\"+str(num_layers-1-it)] = np.multiply(grad[\"h\"+str(num_layers-it-1)],Indicator) \n",
        "    grad[\"h\"+str(num_layers-it-2)] = np.dot(parameters[\"w\"+str(num_layers-it-1)],grad[\"a\"+str(num_layers-1-it)])\n",
        "  grad[\"w1\"] = np.dot(grad[\"a1\"],X_train.T)\n",
        "  grad[\"b1\"] = np.sum(grad[\"a\"+str(1)],axis=1,keepdims=True)\n",
        "  for it in range(1,num_layers-1):  \n",
        "    grad[\"w\"+str(it+1)] = np.dot(grad[\"a\"+str(it+1)],layer[\"pre_hid\"+str(it)].T) \n",
        "    grad[\"b\"+str(it+1)] = np.sum(grad[\"a\"+str(it+1)],axis=1,keepdims=True)\n",
        "  return grad  \n",
        "  #del_loss_resp_to_h_l0 = np.dot(parameter[\"w2\"],-(Y_train-output))\n",
        "  #pre_hid2 = x[\"pre_hid\"+str(len(layers)-2)]\n",
        "  #i = np.ones(pre_hid2.shape)\n",
        "  #pre_hid1 = x[\"pre_hid\"+str(len(layers)-3)] \n",
        "  #i[pre_hid2<0] = 0\n",
        "  #del_loss_resp_to_al = np.multiply(del_loss_resp_to_h_l0,i)\n",
        "  #del_loss_resp_to_h_l1 = np.dot(paramter[\"w1\"],del_loss_resp_to_al)"
      ],
      "execution_count": 0,
      "outputs": []
    },
    {
      "cell_type": "code",
      "metadata": {
        "id": "-5O6cM5Pm8Su",
        "colab_type": "code",
        "colab": {}
      },
      "source": [
        "def weight_update(num_layers,alpha,grad):\n",
        "  for i in range(num_layers-1):\n",
        "    parameters[\"w\"+str(num_layers-i-1)] = parameters[\"w\"+str(num_layers-i-1)] - (alpha*grad[\"w\"+str(num_layers-i-1)]).T\n",
        "    parameters[\"b\"+str(num_layers-i-1)] = parameters[\"b\"+str(num_layers-i-1)] - (alpha*grad[\"b\"+str(num_layers-i-1)])\n",
        "  return parameters  "
      ],
      "execution_count": 0,
      "outputs": []
    },
    {
      "cell_type": "code",
      "metadata": {
        "id": "AZhvunOgu4GP",
        "colab_type": "code",
        "colab": {}
      },
      "source": [
        "def cal_acc(Y_train,output):\n",
        "  output =output.T\n",
        "  # print(output.shape)\n",
        "  for i in range (0,size):\n",
        "    maxno=0\n",
        "    index=0\n",
        "    for j in range (0, 10):   \n",
        "      if(maxno<output[i][j]):\n",
        "        index=j\n",
        "        maxno=output[i][j]\n",
        "        output[i][j]=0\n",
        "      # print(maxno)\n",
        "    output[i][index]=1\n",
        "  # print(output)\n",
        "  output=output.T\n",
        "  acc = np.sum(np.sum(Y_train*output,axis=0,keepdims=True),axis=1,keepdims=True)/Y_train.shape[1]\n",
        "  print(type(acc))\n",
        "\n",
        "  #def metrics():\n",
        "  acc_percentage = acc*100\n",
        "  print(acc_percentage)\n",
        "  return acc_percentage\n",
        "  \n",
        "\n"
      ],
      "execution_count": 0,
      "outputs": []
    },
    {
      "cell_type": "code",
      "metadata": {
        "id": "2_dKHCthJAlB",
        "colab_type": "code",
        "cellView": "both",
        "outputId": "566d4982-ca46-4415-b766-ca5898bfc7fd",
        "colab": {
          "base_uri": "https://localhost:8080/",
          "height": 1000
        }
      },
      "source": [
        "alpha = 0.01\n",
        "num_layers = 4\n",
        "cost=[]\n",
        "accuracy=[]\n",
        "num_itr = 1000\n",
        "num_hidden_layers = 2\n",
        "initialisation()\n",
        "forward_pass(X_train,num_layers)\n",
        "\n",
        "#print(layer[\"activated\"+str(num_layers-1)])\n",
        "for it in range(num_itr):\n",
        "  forward_pass(X_train,num_layers)\n",
        "  output = layer[\"activated\"+str(num_layers-1)]\n",
        "  grad = back_prop(X_train,num_layers)\n",
        "  #print(parameters[\"b1\"].shape)\n",
        "  weight_update(num_layers,alpha,grad)\n",
        "  if it%50==0:\n",
        "    cost.append(calc_loss(Y_train,output))\n",
        "    accuracy.append(cal_acc(Y_train, output))\n",
        "    cal_acc(Y_train,output)\n",
        "    # print(calc_loss(Y_train,output))\n",
        "  #print(parameters[\"b1\"].shape)    "
      ],
      "execution_count": 67,
      "outputs": [
        {
          "output_type": "stream",
          "text": [
            "[[0.10361022]]\n",
            "[[10.36102167]]\n",
            "[[0.09949581]]\n",
            "[[9.94958059]]\n",
            "[[0.17336322]]\n",
            "[[17.3363222]]\n",
            "[[0.17336322]]\n",
            "[[17.3363222]]\n",
            "[[0.1972392]]\n",
            "[[19.72392005]]\n",
            "[[0.17947064]]\n",
            "[[17.94706406]]\n",
            "[[0.17992079]]\n",
            "[[17.9920789]]\n",
            "[[0.17992079]]\n",
            "[[17.9920789]]\n",
            "[[0.19232122]]\n",
            "[[19.23212197]]\n",
            "[[0.19164621]]\n",
            "[[19.16462055]]\n",
            "[[0.20550081]]\n",
            "[[20.55008126]]\n",
            "[[0.20550081]]\n",
            "[[20.55008126]]\n",
            "[[0.26694746]]\n",
            "[[26.69474593]]\n",
            "[[0.26687731]]\n",
            "[[26.6877314]]\n",
            "[[0.32651171]]\n",
            "[[32.65117141]]\n",
            "[[0.32597396]]\n",
            "[[32.59739588]]\n",
            "[[0.42513166]]\n",
            "[[42.51316588]]\n",
            "[[0.42402079]]\n",
            "[[42.40207922]]\n",
            "[[0.54672659]]\n",
            "[[54.67265859]]\n",
            "[[0.54506257]]\n",
            "[[54.50625668]]\n",
            "[[0.65743181]]\n",
            "[[65.74318074]]\n",
            "[[0.65516767]]\n",
            "[[65.51676746]]\n",
            "[[0.6879499]]\n",
            "[[68.79499038]]\n",
            "[[0.68566506]]\n",
            "[[68.56650577]]\n",
            "[[0.70752099]]\n",
            "[[70.75209881]]\n",
            "[[0.70507205]]\n",
            "[[70.5072047]]\n",
            "[[0.72475941]]\n",
            "[[72.47594093]]\n",
            "[[0.72203871]]\n",
            "[[72.20387106]]\n",
            "[[0.74000979]]\n",
            "[[74.00097897]]\n",
            "[[0.7370309]]\n",
            "[[73.70308968]]\n",
            "[[0.75205327]]\n",
            "[[75.20532665]]\n",
            "[[0.74904615]]\n",
            "[[74.90461472]]\n",
            "[[0.76255671]]\n",
            "[[76.25567078]]\n",
            "[[0.75962993]]\n",
            "[[75.96299255]]\n",
            "[[0.77113763]]\n",
            "[[77.11376256]]\n",
            "[[0.76819847]]\n",
            "[[76.81984744]]\n",
            "[[0.78019776]]\n",
            "[[78.01977576]]\n",
            "[[0.77732231]]\n",
            "[[77.73223129]]\n",
            "[[0.78835068]]\n",
            "[[78.83506798]]\n",
            "[[0.78564491]]\n",
            "[[78.5644909]]\n"
          ],
          "name": "stdout"
        }
      ]
    },
    {
      "cell_type": "code",
      "metadata": {
        "id": "40rwKwuwOqWY",
        "colab_type": "code",
        "colab": {}
      },
      "source": [
        ""
      ],
      "execution_count": 0,
      "outputs": []
    },
    {
      "cell_type": "markdown",
      "metadata": {
        "id": "FzAy0LYZOuD_",
        "colab_type": "text"
      },
      "source": [
        ""
      ]
    },
    {
      "cell_type": "code",
      "metadata": {
        "id": "ScqWOAlN1tqI",
        "colab_type": "code",
        "outputId": "d16f6f1b-48c2-45ab-82b6-6cea8df62c9e",
        "colab": {
          "base_uri": "https://localhost:8080/",
          "height": 187
        }
      },
      "source": [
        "#print(parameters)\n",
        "# print(accuracy)\n",
        "output = layer[\"activated\"+str(num_layers-1)]\n",
        "# print(Y_train.shape[1])\n",
        "temp=output\n",
        "# print(temp)\n",
        "output =output.T\n",
        "# print(output.shape)\n",
        "for i in range (0,Y_train.shape[1]):\n",
        "  maxno=0\n",
        "  index=0\n",
        "  for j in range (0, 10):   \n",
        "    if(maxno<output[i][j]):\n",
        "     index=j\n",
        "     maxno=output[i][j]\n",
        "    output[i][j]=0\n",
        "    # print(maxno)\n",
        "  output[i][index]=1\n",
        "rows, cols = (10,10) \n",
        "confmat = [[0]*cols]*rows\n",
        " \n",
        "# print(confmat)\n",
        "confmat=confusion_matrix(output)\n",
        "for i in range(0,10):\n",
        "  print(confmat[i])\n",
        "# print(confmat)\n",
        "# print(output)\n",
        "output=output.T\n",
        "acc = np.sum(np.sum(Y_train*output,axis=0,keepdims=True),axis=1,keepdims=True)/Y_train.shape[1]\n",
        "# print(acc)\n",
        "#def metrics():\n",
        "acc_percentage = acc*100\n",
        "# print(acc_percentage)"
      ],
      "execution_count": 88,
      "outputs": [
        {
          "output_type": "stream",
          "text": [
            "[5531, 3, 46, 11, 26, 189, 53, 4, 53, 7]\n",
            "[0, 6518, 54, 13, 0, 2, 2, 10, 137, 6]\n",
            "[112, 221, 4522, 213, 200, 67, 285, 35, 285, 18]\n",
            "[29, 163, 237, 4708, 16, 300, 16, 78, 532, 52]\n",
            "[31, 112, 22, 0, 4438, 3, 121, 45, 118, 952]\n",
            "[126, 110, 238, 1040, 102, 2598, 134, 289, 598, 186]\n",
            "[120, 159, 343, 6, 67, 24, 5132, 0, 66, 1]\n",
            "[91, 351, 17, 5, 94, 36, 1, 5109, 208, 353]\n",
            "[24, 609, 223, 502, 81, 286, 66, 41, 3783, 236]\n",
            "[66, 141, 22, 58, 1218, 55, 11, 835, 165, 3378]\n"
          ],
          "name": "stdout"
        }
      ]
    },
    {
      "cell_type": "code",
      "metadata": {
        "id": "bqFu3i6ORJE-",
        "colab_type": "code",
        "colab": {}
      },
      "source": [
        ""
      ],
      "execution_count": 0,
      "outputs": []
    },
    {
      "cell_type": "code",
      "metadata": {
        "id": "lvxZ_AjHcMDF",
        "colab_type": "code",
        "colab": {}
      },
      "source": [
        "def getdigit(row):\n",
        "  for i in range(0,10):\n",
        "    if row[i]==1:\n",
        "      return i\n",
        "  return 0\n"
      ],
      "execution_count": 0,
      "outputs": []
    },
    {
      "cell_type": "code",
      "metadata": {
        "id": "cbfkOxlOcmtJ",
        "colab_type": "code",
        "colab": {}
      },
      "source": [
        "def get_confusionmatrix(output):\n",
        "  rows, cols = (10, 10) \n",
        "  z=Y_train.T\n",
        "  print(z.shape[0])\n",
        "  confmat = [[0]*cols]*rows\n",
        "  print(\"here\", confmat)\n",
        "  for i in range(0,z.shape[0]):\n",
        "    pred=getdigit(output[i])\n",
        "    actual=getdigit(z[i])\n",
        "  return confmat\n"
      ],
      "execution_count": 0,
      "outputs": []
    },
    {
      "cell_type": "code",
      "metadata": {
        "id": "9UWACr5ugPIn",
        "colab_type": "code",
        "colab": {
          "base_uri": "https://localhost:8080/",
          "height": 34
        },
        "outputId": "7f4d51a8-99b9-433f-ea09-f25eff8a24c8"
      },
      "source": [
        "print(Y_train.shape)"
      ],
      "execution_count": 93,
      "outputs": [
        {
          "output_type": "stream",
          "text": [
            "(10, 60000)\n"
          ],
          "name": "stdout"
        }
      ]
    },
    {
      "cell_type": "code",
      "metadata": {
        "id": "L-QAWQr9kMZo",
        "colab_type": "code",
        "colab": {}
      },
      "source": [
        "def confusion_matrix(output):\n",
        "  rows, cols = (10, 10)\n",
        "  predicted=[]\n",
        "  actual=[]\n",
        "  conf = [[0]*cols]*rows\n",
        "  z=Y_train.T\n",
        "  o=output\n",
        "  for i in range(0,z.shape[0]):\n",
        "    pred=getdigit(o[i])\n",
        "    act=getdigit(z[i])\n",
        "    predicted.append(pred)\n",
        "    actual.append(act)\n",
        "\n",
        "  # print(predicted, actual)\n",
        "\n",
        "  # for i in range(0,10):\n",
        "  #   for j in range(0,10):\n",
        "  #   conf[i].append()\n",
        "  # print(conf)\n",
        "  col_num=10\n",
        "  row_num=10\n",
        "  multi_list = [[0 for col in range(col_num)] for row in range(row_num)]\n",
        "  for i in range(0,z.shape[0]):\n",
        "    multi_list[actual[i]][predicted[i]]=multi_list[actual[i]][predicted[i]]+1\n",
        "  # print(multi_list)\n",
        "  return multi_list"
      ],
      "execution_count": 0,
      "outputs": []
    },
    {
      "cell_type": "markdown",
      "metadata": {
        "id": "5t7ouiI-_Xob",
        "colab_type": "text"
      },
      "source": [
        ""
      ]
    },
    {
      "cell_type": "code",
      "metadata": {
        "id": "wYEIsyaqRKtQ",
        "colab_type": "code",
        "colab": {}
      },
      "source": [
        "def calprecision(index):\n",
        "  tp=confmat[index][index]\n",
        "  sumno=0\n",
        "  for i in range(0, 10):\n",
        "    sumno=sumno+confmat[index][i]\n",
        "  fp=sumno-tp\n",
        "  precision=tp/sumno\n",
        "  return precision\n",
        "    \n",
        "\n",
        "\n",
        "\n"
      ],
      "execution_count": 0,
      "outputs": []
    },
    {
      "cell_type": "code",
      "metadata": {
        "id": "aA_Ti0ImxAZK",
        "colab_type": "code",
        "colab": {}
      },
      "source": [
        "def calrecall(index):\n",
        "  tp=confmat[index][index]\n",
        "  sumno=0\n",
        "  for i in range(0, 10):\n",
        "    sumno=sumno+confmat[i][index]\n",
        "  fn=sumno-tp\n",
        "  rec=tp/sumno\n",
        "  return rec"
      ],
      "execution_count": 0,
      "outputs": []
    },
    {
      "cell_type": "code",
      "metadata": {
        "id": "1mA7BQzqTD_Y",
        "colab_type": "code",
        "colab": {
          "base_uri": "https://localhost:8080/",
          "height": 383
        },
        "outputId": "e98d2f0d-e759-45ca-8017-b0e5709e4b99"
      },
      "source": [
        "import matplotlib as mpl\n",
        "import matplotlib.pyplot as plt\n",
        "index=[]\n",
        "for i in range(1,21):\n",
        "  index.append(i*50)\n",
        "print(index)\n",
        "print(accuracy[0][0][0])\n",
        "accu=[]\n",
        "for i in range(0,20):\n",
        "  accu.append(accuracy[i][0][0])\n",
        "\n",
        "print(np.array(accu).shape)\n",
        "# plt.plot(index,accuracy) \n",
        "\n",
        "# naming the x axis \n",
        "plt.xlabel('Iterations') \n",
        "# naming the y axis \n",
        "plt.ylabel('Accuracy') \n",
        "  \n",
        "# giving a title to my graph \n",
        "plt.title('Accuracy Plot') \n",
        "  \n",
        "# print(np.array(accuracy).shape)\n",
        "plt.plot(index,accu)\n"
      ],
      "execution_count": 82,
      "outputs": [
        {
          "output_type": "stream",
          "text": [
            "[50, 100, 150, 200, 250, 300, 350, 400, 450, 500, 550, 600, 650, 700, 750, 800, 850, 900, 950, 1000]\n",
            "10.361021673507938\n",
            "(20,)\n",
            "(20, 1, 1)\n"
          ],
          "name": "stdout"
        },
        {
          "output_type": "display_data",
          "data": {
            "image/png": "[encoded data removed]",
            "text/plain": [
              "<Figure size 432x288 with 1 Axes>"
            ]
          },
          "metadata": {
            "tags": [],
            "needs_background": "light"
          }
        }
      ]
    },
    {
      "cell_type": "code",
      "metadata": {
        "id": "-c45zckAuMDW",
        "colab_type": "code",
        "colab": {
          "base_uri": "https://localhost:8080/",
          "height": 346
        },
        "outputId": "d0ad0bb1-30d2-47c8-ec7d-5b44fc79ca92"
      },
      "source": [
        "\n",
        "\n",
        "cost_iter=[]\n",
        "for i in range(0,20):\n",
        "  cost_iter.append(cost[i][0][0])\n",
        "print(np.array(cost_iter).shape)\n",
        "print(np.array(accu).shape)\n",
        "# plt.plot(index,accuracy) \n",
        "\n",
        "# naming the x axis \n",
        "plt.xlabel('Iterations') \n",
        "# naming the y axis \n",
        "plt.ylabel('Loss') \n",
        "  \n",
        "# giving a title to my graph \n",
        "plt.title('Loss Plot') \n",
        "  \n",
        "# print(np.array(accuracy).shape)\n",
        "plt.plot(index,cost_iter)"
      ],
      "execution_count": 85,
      "outputs": [
        {
          "output_type": "stream",
          "text": [
            "(20,)\n",
            "(20,)\n"
          ],
          "name": "stdout"
        },
        {
          "output_type": "execute_result",
          "data": {
            "text/plain": [
              "[<matplotlib.lines.Line2D at 0x7fe9b8d3b9e8>]"
            ]
          },
          "metadata": {
            "tags": []
          },
          "execution_count": 85
        },
        {
          "output_type": "display_data",
          "data": {
            "image/png": "[encoded data removed]",
            "text/plain": [
              "<Figure size 432x288 with 1 Axes>"
            ]
          },
          "metadata": {
            "tags": [],
            "needs_background": "light"
          }
        }
      ]
    },
    {
      "cell_type": "code",
      "metadata": {
        "id": "LUYEPgXbxTUd",
        "colab_type": "code",
        "colab": {
          "base_uri": "https://localhost:8080/",
          "height": 54
        },
        "outputId": "36f55c57-c2ac-4956-f791-de75948d9e8b"
      },
      "source": [
        "fscore=[]\n",
        "for i in range(0,10):\n",
        "  hp= harmonicmean(calrecall(i),calprecision(i))\n",
        "  fscore.append(hp)\n",
        "print(fscore)"
      ],
      "execution_count": 95,
      "outputs": [
        {
          "output_type": "stream",
          "text": [
            "[0.9177798058574629, 0.8616564214422631, 0.7741825029960624, 0.742177031607157, 0.7345249917245945, 0.5785547266451397, 0.8743504557458046, 0.8038706632050979, 0.6414038657171922, 0.6065720955288203]\n"
          ],
          "name": "stdout"
        }
      ]
    },
    {
      "cell_type": "code",
      "metadata": {
        "id": "jSLdKSUlxd1H",
        "colab_type": "code",
        "colab": {}
      },
      "source": [
        "def harmonicmean(a,b):\n",
        "  hp=2*a*b/(a+b)\n",
        "  return hp"
      ],
      "execution_count": 0,
      "outputs": []
    }
  ]
}
